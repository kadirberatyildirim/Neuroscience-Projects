{
 "cells": [
  {
   "cell_type": "code",
   "execution_count": 1,
   "id": "811e3a34",
   "metadata": {},
   "outputs": [],
   "source": [
    "func_path = 'example_data/preprocessed/func_words_preprocessed.nii.gz'\n",
    "evs_path = 'example_data/preprocessed/words_events.tsv'"
   ]
  },
  {
   "cell_type": "code",
   "execution_count": 2,
   "id": "db2bd658",
   "metadata": {},
   "outputs": [
    {
     "data": {
      "text/html": [
       "<div>\n",
       "<style scoped>\n",
       "    .dataframe tbody tr th:only-of-type {\n",
       "        vertical-align: middle;\n",
       "    }\n",
       "\n",
       "    .dataframe tbody tr th {\n",
       "        vertical-align: top;\n",
       "    }\n",
       "\n",
       "    .dataframe thead th {\n",
       "        text-align: right;\n",
       "    }\n",
       "</style>\n",
       "<table border=\"1\" class=\"dataframe\">\n",
       "  <thead>\n",
       "    <tr style=\"text-align: right;\">\n",
       "      <th></th>\n",
       "      <th>onset</th>\n",
       "      <th>duration</th>\n",
       "      <th>trial_type</th>\n",
       "    </tr>\n",
       "  </thead>\n",
       "  <tbody>\n",
       "    <tr>\n",
       "      <th>0</th>\n",
       "      <td>0.0</td>\n",
       "      <td>0.8</td>\n",
       "      <td>Concrete</td>\n",
       "    </tr>\n",
       "    <tr>\n",
       "      <th>1</th>\n",
       "      <td>3.2</td>\n",
       "      <td>0.7</td>\n",
       "      <td>Abstract</td>\n",
       "    </tr>\n",
       "    <tr>\n",
       "      <th>2</th>\n",
       "      <td>6.8</td>\n",
       "      <td>0.6</td>\n",
       "      <td>Nonword</td>\n",
       "    </tr>\n",
       "    <tr>\n",
       "      <th>3</th>\n",
       "      <td>10.5</td>\n",
       "      <td>0.7</td>\n",
       "      <td>Nonword</td>\n",
       "    </tr>\n",
       "    <tr>\n",
       "      <th>4</th>\n",
       "      <td>13.2</td>\n",
       "      <td>0.7</td>\n",
       "      <td>Nonword</td>\n",
       "    </tr>\n",
       "  </tbody>\n",
       "</table>\n",
       "</div>"
      ],
      "text/plain": [
       "   onset  duration trial_type\n",
       "0    0.0       0.8   Concrete\n",
       "1    3.2       0.7   Abstract\n",
       "2    6.8       0.6    Nonword\n",
       "3   10.5       0.7    Nonword\n",
       "4   13.2       0.7    Nonword"
      ]
     },
     "execution_count": 2,
     "metadata": {},
     "output_type": "execute_result"
    }
   ],
   "source": [
    "import pandas as pd\n",
    "\n",
    "events = pd.read_csv(evs_path, sep='\\t')\n",
    "events.head()"
   ]
  },
  {
   "cell_type": "code",
   "execution_count": 4,
   "id": "bf82f1ea",
   "metadata": {},
   "outputs": [],
   "source": [
    "import nibabel as nib\n",
    "\n",
    "fmri_img = nib.load(func_path)"
   ]
  },
  {
   "cell_type": "code",
   "execution_count": 5,
   "id": "5bf71d4b",
   "metadata": {},
   "outputs": [],
   "source": [
    "import numpy as np\n",
    "from nilearn.glm.first_level import FirstLevelModel\n",
    "from nilearn.glm.first_level import make_first_level_design_matrix\n",
    "\n",
    "# Assuming 'fmri_img' is your fMRI data and 'tr' is the time of repetition for your fMRI data\n",
    "tr = 3.0\n",
    "fmri_glm = FirstLevelModel(t_r=tr)\n",
    "\n",
    "# Assuming 'frame_times' are the times of acquisition of your fMRI volumes\n",
    "frame_times = np.arange(fmri_img.shape[-1]) * tr\n",
    "\n",
    "# Now, we'll set up the design matrix using the events DataFrame 'events' that we loaded earlier\n",
    "# We'll consider three different trial_types or conditions, i.e., 'Concrete', 'Abstract', and 'Nonword'\n",
    "conditions = events['trial_type'].tolist()\n",
    "onsets = events['onset'].tolist()\n",
    "durations = events['duration'].tolist()\n",
    "\n",
    "events_df = pd.DataFrame({'trial_type': conditions, 'onset': onsets, 'duration': durations})\n",
    "\n",
    "design_matrix = make_first_level_design_matrix(frame_times, events_df, hrf_model='spm')\n",
    "\n",
    "# Fit the GLM\n",
    "fmri_glm = fmri_glm.fit(fmri_img, design_matrices=design_matrix)"
   ]
  },
  {
   "cell_type": "code",
   "execution_count": null,
   "id": "ab9c56aa",
   "metadata": {},
   "outputs": [],
   "source": []
  }
 ],
 "metadata": {
  "kernelspec": {
   "display_name": "Python 3 (ipykernel)",
   "language": "python",
   "name": "python3"
  },
  "language_info": {
   "codemirror_mode": {
    "name": "ipython",
    "version": 3
   },
   "file_extension": ".py",
   "mimetype": "text/x-python",
   "name": "python",
   "nbconvert_exporter": "python",
   "pygments_lexer": "ipython3",
   "version": "3.10.9"
  }
 },
 "nbformat": 4,
 "nbformat_minor": 5
}

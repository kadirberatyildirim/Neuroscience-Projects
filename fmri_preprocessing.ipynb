{
 "cells": [
  {
   "cell_type": "markdown",
   "metadata": {},
   "source": [
    "# Anatomical Dataset Preprocessing\n",
    "\n",
    "Here I first apply a skull-stripping, then I calculate the warp to a reference template, in this case MNI space.\n",
    "\n",
    "## Using AFNI"
   ]
  },
  {
   "cell_type": "code",
   "execution_count": 1,
   "metadata": {},
   "outputs": [],
   "source": [
    "from nipype.interfaces.afni import SkullStrip, Allineate"
   ]
  },
  {
   "cell_type": "code",
   "execution_count": 2,
   "metadata": {},
   "outputs": [
    {
     "name": "stdout",
     "output_type": "stream",
     "text": [
      "230730-23:29:33,311 nipype.interface INFO:\n",
      "\t stderr 2023-07-30T23:29:33.311495:The intensity in the output dataset is a modified version\n",
      "230730-23:29:33,312 nipype.interface INFO:\n",
      "\t stderr 2023-07-30T23:29:33.311495:of the intensity in the input volume.\n",
      "230730-23:29:33,312 nipype.interface INFO:\n",
      "\t stderr 2023-07-30T23:29:33.311495:To obtain a masked version of the input with identical values inside\n",
      "230730-23:29:33,313 nipype.interface INFO:\n",
      "\t stderr 2023-07-30T23:29:33.311495:the brain, you can either use 3dSkullStrip's -orig_vol option\n",
      "230730-23:29:33,314 nipype.interface INFO:\n",
      "\t stderr 2023-07-30T23:29:33.311495:or run the following command:\n",
      "230730-23:29:33,314 nipype.interface INFO:\n",
      "\t stderr 2023-07-30T23:29:33.311495:  3dcalc -a example_data/raw/anat.nii.gz -b example_data/preprocessed/anat_SS.nii.gz+orig -expr 'a*step(b)' \\\n",
      "230730-23:29:33,315 nipype.interface INFO:\n",
      "\t stderr 2023-07-30T23:29:33.311495:         -prefix example_data/preprocessed/anat_SS.nii.gz_orig_vol\n",
      "230730-23:29:33,315 nipype.interface INFO:\n",
      "\t stderr 2023-07-30T23:29:33.311495:to generate a new masked version of the input.\n"
     ]
    },
    {
     "data": {
      "text/plain": [
       "<nipype.interfaces.base.support.InterfaceResult at 0x7f35047476a0>"
      ]
     },
     "execution_count": 2,
     "metadata": {},
     "output_type": "execute_result"
    }
   ],
   "source": [
    "# Specify the input and output filenames\n",
    "anat = 'example_data/raw/anat.nii.gz'\n",
    "anat_SS = 'example_data/preprocessed/anat_SS_AFNI.nii.gz'\n",
    "\n",
    "# Skull-strip the anatomical image\n",
    "skullstrip = SkullStrip()\n",
    "skullstrip.inputs.in_file = anat\n",
    "skullstrip.inputs.out_file = anat_SS\n",
    "skullstrip.run()"
   ]
  },
  {
   "cell_type": "code",
   "execution_count": 6,
   "metadata": {},
   "outputs": [
    {
     "name": "stdout",
     "output_type": "stream",
     "text": [
      "230730-23:32:17,139 nipype.interface INFO:\n",
      "\t stderr 2023-07-30T23:32:17.139469:++ 3dAllineate: AFNI version=AFNI_23.0.07 (Mar  1 2023) [64-bit]\n",
      "230730-23:32:17,140 nipype.interface INFO:\n",
      "\t stderr 2023-07-30T23:32:17.139469:++ Authored by: Zhark the Registrator\n",
      "230730-23:32:17,141 nipype.interface INFO:\n",
      "\t stderr 2023-07-30T23:32:17.141911:++ Source dataset: /home/hign/Documents/GitHub/Neuroscience-Projects/example_data/preprocessed/anat_SS_AFNI.nii.gz\n",
      "230730-23:32:17,142 nipype.interface INFO:\n",
      "\t stderr 2023-07-30T23:32:17.141911:++ Base dataset:   /home/hign/Documents/GitHub/Neuroscience-Projects/example_data/MNI152_2009_template_SSW.nii.gz\n",
      "230730-23:32:17,142 nipype.interface INFO:\n",
      "\t stderr 2023-07-30T23:32:17.141911:++ Loading datasets into memory\n",
      "230730-23:32:20,664 nipype.interface INFO:\n",
      "\t stderr 2023-07-30T23:32:20.664658:\u001b[7m*+ WARNING:\u001b[0m center of mass shifts (-cmass) are turned off, but would be large\n",
      "230730-23:32:20,666 nipype.interface INFO:\n",
      "\t stderr 2023-07-30T23:32:20.664658:\u001b[7m*+ WARNING:\u001b[0m   - at least one is more than 20% of search range\n",
      "230730-23:32:20,667 nipype.interface INFO:\n",
      "\t stderr 2023-07-30T23:32:20.664658: +        -cmass x y z shifts =   -0.416  -32.348    5.295\n",
      "230730-23:32:20,667 nipype.interface INFO:\n",
      "\t stderr 2023-07-30T23:32:20.664658: +  shift search range is +/- =   64.200   75.756   68.694\n",
      "230730-23:32:20,668 nipype.interface INFO:\n",
      "\t stderr 2023-07-30T23:32:20.664658: +                                  0.6%    42.7%     7.7%\n",
      "230730-23:32:20,683 nipype.interface INFO:\n",
      "\t stderr 2023-07-30T23:32:20.683630:++ master dataset for output = base\n",
      "230730-23:32:20,688 nipype.interface INFO:\n",
      "\t stderr 2023-07-30T23:32:20.688009:++ OpenMP thread count = 15\n",
      "230730-23:32:20,689 nipype.interface INFO:\n",
      "\t stderr 2023-07-30T23:32:20.688009:++ ======= Allineation of 1 sub-bricks using Hellinger metric =======\n",
      "230730-23:32:22,329 nipype.interface INFO:\n",
      "\t stderr 2023-07-30T23:32:22.329056:++ *** Coarse pass begins ***\n",
      "230730-23:35:17,835 nipype.interface INFO:\n",
      "\t stderr 2023-07-30T23:35:17.835282:++ *** Fine pass begins ***\n",
      "230730-23:36:10,532 nipype.interface INFO:\n",
      "\t stderr 2023-07-30T23:36:10.532349: + Final fine fit Parameters:\n",
      "230730-23:36:10,533 nipype.interface INFO:\n",
      "\t stderr 2023-07-30T23:36:10.532349:       x-shift= -0.0942   y-shift=-30.5417   z-shift= 11.6207  ...  enorm= 32.6779 mm\n",
      "230730-23:36:10,534 nipype.interface INFO:\n",
      "\t stderr 2023-07-30T23:36:10.532349:       z-angle= -0.5157   x-angle=  7.9041   y-angle= -1.6293  ...  total=  8.0936 deg\n",
      "230730-23:36:10,535 nipype.interface INFO:\n",
      "\t stderr 2023-07-30T23:36:10.532349:       x-scale=  0.9405   y-scale=  0.9285   z-scale=  0.8568  ...  vol3D=  0.7482=(0.9078)^3 [base bigger than source]\n",
      "230730-23:36:10,536 nipype.interface INFO:\n",
      "\t stderr 2023-07-30T23:36:10.532349:     y/x-shear=  0.0008 z/x-shear= -0.0074 z/y-shear=  0.0000\n",
      "230730-23:36:10,999 nipype.interface INFO:\n",
      "\t stderr 2023-07-30T23:36:10.999493:++ Output dataset example_data/anat_warped_AFNI.nii.gz\n",
      "230730-23:36:11,10 nipype.interface INFO:\n",
      "\t stderr 2023-07-30T23:36:11.010477:++ 3dAllineate: total CPU time = 0.0 sec  Elapsed = 233.9\n",
      "230730-23:36:11,11 nipype.interface INFO:\n",
      "\t stderr 2023-07-30T23:36:11.010477:++ ###########################################################\n",
      "230730-23:36:11,12 nipype.interface INFO:\n",
      "\t stderr 2023-07-30T23:36:11.010477:++ #   PLEASE check results VISUALLY for alignment quality   #\n",
      "230730-23:36:11,12 nipype.interface INFO:\n",
      "\t stderr 2023-07-30T23:36:11.010477:++ ###########################################################\n",
      "230730-23:36:11,12 nipype.interface INFO:\n",
      "\t stderr 2023-07-30T23:36:11.010477: +  \n",
      "230730-23:36:11,13 nipype.interface INFO:\n",
      "\t stderr 2023-07-30T23:36:11.010477:++ ***********************************************************\n",
      "230730-23:36:11,13 nipype.interface INFO:\n",
      "\t stderr 2023-07-30T23:36:11.010477:\u001b[7m*+ WARNING:\u001b[0m -cmass was turned off, but might have been needed :(\n",
      "230730-23:36:11,13 nipype.interface INFO:\n",
      "\t stderr 2023-07-30T23:36:11.010477: +           Please check your results - PLEASE PLEASE PLEASE\n",
      "230730-23:36:11,14 nipype.interface INFO:\n",
      "\t stderr 2023-07-30T23:36:11.010477:++ ***********************************************************\n"
     ]
    },
    {
     "data": {
      "text/plain": [
       "<nipype.interfaces.base.support.InterfaceResult at 0x7f3504747430>"
      ]
     },
     "execution_count": 6,
     "metadata": {},
     "output_type": "execute_result"
    }
   ],
   "source": [
    "# Define the template and output paths\n",
    "template_path = \"example_data/MNI152_2009_template_SSW.nii.gz\"\n",
    "out_anat_path = \"example_data/preprocessed/anat_warped_AFNI.nii.gz\"\n",
    "\n",
    "# Perform the normalization\n",
    "allineate = Allineate()\n",
    "allineate.inputs.in_file = anat_SS\n",
    "allineate.inputs.reference = template_path\n",
    "allineate.inputs.out_file = out_anat_path\n",
    "allineate.run()"
   ]
  },
  {
   "cell_type": "code",
   "execution_count": null,
   "metadata": {},
   "outputs": [],
   "source": []
  }
 ],
 "metadata": {
  "kernelspec": {
   "display_name": "Python 3 (ipykernel)",
   "language": "python",
   "name": "python3"
  },
  "language_info": {
   "codemirror_mode": {
    "name": "ipython",
    "version": 3
   },
   "file_extension": ".py",
   "mimetype": "text/x-python",
   "name": "python",
   "nbconvert_exporter": "python",
   "pygments_lexer": "ipython3",
   "version": "3.10.9"
  }
 },
 "nbformat": 4,
 "nbformat_minor": 2
}

{
 "cells": [
  {
   "cell_type": "markdown",
   "metadata": {},
   "source": [
    "# Anatomical Dataset Preprocessing\n",
    "\n",
    "Here I first apply a skull-stripping, then I calculate the warp to a reference template, in this case MNI space."
   ]
  },
  {
   "cell_type": "code",
   "execution_count": 10,
   "metadata": {},
   "outputs": [],
   "source": [
    "# Specify the input and output filenames\n",
    "anat = 'example_data/raw/anat.nii.gz'\n",
    "anat_SS = 'example_data/preprocessed/anat_SS_{}.nii.gz'\n",
    "anat_warped = 'example_data/preprocessed/anat_warped_{}.nii.gz'\n",
    "template_path = \"example_data/MNI152_2009_template_SSW.nii.gz\""
   ]
  },
  {
   "cell_type": "markdown",
   "metadata": {},
   "source": [
    "## Using AFNI"
   ]
  },
  {
   "cell_type": "code",
   "execution_count": 1,
   "metadata": {},
   "outputs": [],
   "source": [
    "from nipype.interfaces.afni import SkullStrip, Allineate"
   ]
  },
  {
   "cell_type": "code",
   "execution_count": 13,
   "metadata": {},
   "outputs": [
    {
     "name": "stdout",
     "output_type": "stream",
     "text": [
      "230730-23:50:01,307 nipype.interface INFO:\n",
      "\t stderr 2023-07-30T23:50:01.306984:The intensity in the output dataset is a modified version\n",
      "230730-23:50:01,307 nipype.interface INFO:\n",
      "\t stderr 2023-07-30T23:50:01.306984:of the intensity in the input volume.\n",
      "230730-23:50:01,308 nipype.interface INFO:\n",
      "\t stderr 2023-07-30T23:50:01.306984:To obtain a masked version of the input with identical values inside\n",
      "230730-23:50:01,309 nipype.interface INFO:\n",
      "\t stderr 2023-07-30T23:50:01.306984:the brain, you can either use 3dSkullStrip's -orig_vol option\n",
      "230730-23:50:01,309 nipype.interface INFO:\n",
      "\t stderr 2023-07-30T23:50:01.306984:or run the following command:\n",
      "230730-23:50:01,310 nipype.interface INFO:\n",
      "\t stderr 2023-07-30T23:50:01.306984:  3dcalc -a example_data/raw/anat.nii.gz -b example_data/preprocessed/anat_SS_AFNI.nii.gz+orig -expr 'a*step(b)' \\\n",
      "230730-23:50:01,310 nipype.interface INFO:\n",
      "\t stderr 2023-07-30T23:50:01.306984:         -prefix example_data/preprocessed/anat_SS_AFNI.nii.gz_orig_vol\n",
      "230730-23:50:01,311 nipype.interface INFO:\n",
      "\t stderr 2023-07-30T23:50:01.306984:to generate a new masked version of the input.\n"
     ]
    },
    {
     "data": {
      "text/plain": [
       "<nipype.interfaces.base.support.InterfaceResult at 0x7f350458cb80>"
      ]
     },
     "execution_count": 13,
     "metadata": {},
     "output_type": "execute_result"
    }
   ],
   "source": [
    "# Skull-stripping\n",
    "skullstrip = SkullStrip()\n",
    "skullstrip.inputs.in_file = anat\n",
    "skullstrip.inputs.out_file = anat_SS.format('AFNI')\n",
    "skullstrip.run()"
   ]
  },
  {
   "cell_type": "code",
   "execution_count": 14,
   "metadata": {},
   "outputs": [
    {
     "name": "stdout",
     "output_type": "stream",
     "text": [
      "230730-23:50:01,397 nipype.interface INFO:\n",
      "\t stderr 2023-07-30T23:50:01.397701:++ 3dAllineate: AFNI version=AFNI_23.0.07 (Mar  1 2023) [64-bit]\n",
      "230730-23:50:01,398 nipype.interface INFO:\n",
      "\t stderr 2023-07-30T23:50:01.397701:++ Authored by: Zhark the Registrator\n",
      "230730-23:50:01,400 nipype.interface INFO:\n",
      "\t stderr 2023-07-30T23:50:01.400012:++ Source dataset: /home/hign/Documents/GitHub/Neuroscience-Projects/example_data/preprocessed/anat_SS_AFNI.nii.gz\n",
      "230730-23:50:01,400 nipype.interface INFO:\n",
      "\t stderr 2023-07-30T23:50:01.400012:++ Base dataset:   /home/hign/Documents/GitHub/Neuroscience-Projects/example_data/MNI152_2009_template_SSW.nii.gz\n",
      "230730-23:50:01,401 nipype.interface INFO:\n",
      "\t stderr 2023-07-30T23:50:01.400012:++ Loading datasets into memory\n",
      "230730-23:50:04,975 nipype.interface INFO:\n",
      "\t stderr 2023-07-30T23:50:04.975926:\u001b[7m*+ WARNING:\u001b[0m center of mass shifts (-cmass) are turned off, but would be large\n",
      "230730-23:50:04,977 nipype.interface INFO:\n",
      "\t stderr 2023-07-30T23:50:04.975926:\u001b[7m*+ WARNING:\u001b[0m   - at least one is more than 20% of search range\n",
      "230730-23:50:04,977 nipype.interface INFO:\n",
      "\t stderr 2023-07-30T23:50:04.975926: +        -cmass x y z shifts =   -0.416  -32.348    5.295\n",
      "230730-23:50:04,978 nipype.interface INFO:\n",
      "\t stderr 2023-07-30T23:50:04.975926: +  shift search range is +/- =   64.200   75.756   68.694\n",
      "230730-23:50:04,978 nipype.interface INFO:\n",
      "\t stderr 2023-07-30T23:50:04.975926: +                                  0.6%    42.7%     7.7%\n",
      "230730-23:50:04,996 nipype.interface INFO:\n",
      "\t stderr 2023-07-30T23:50:04.996797:++ master dataset for output = base\n",
      "230730-23:50:04,999 nipype.interface INFO:\n",
      "\t stderr 2023-07-30T23:50:04.999274:++ OpenMP thread count = 15\n",
      "230730-23:50:05,1 nipype.interface INFO:\n",
      "\t stderr 2023-07-30T23:50:05.001579:++ ======= Allineation of 1 sub-bricks using Hellinger metric =======\n",
      "230730-23:50:06,563 nipype.interface INFO:\n",
      "\t stderr 2023-07-30T23:50:06.563475:++ *** Coarse pass begins ***\n",
      "230730-23:53:04,839 nipype.interface INFO:\n",
      "\t stderr 2023-07-30T23:53:04.839603:++ *** Fine pass begins ***\n",
      "230730-23:54:06,553 nipype.interface INFO:\n",
      "\t stderr 2023-07-30T23:54:06.553847: + Final fine fit Parameters:\n",
      "230730-23:54:06,555 nipype.interface INFO:\n",
      "\t stderr 2023-07-30T23:54:06.553847:       x-shift= -0.0942   y-shift=-30.5417   z-shift= 11.6207  ...  enorm= 32.6779 mm\n",
      "230730-23:54:06,556 nipype.interface INFO:\n",
      "\t stderr 2023-07-30T23:54:06.553847:       z-angle= -0.5157   x-angle=  7.9041   y-angle= -1.6293  ...  total=  8.0936 deg\n",
      "230730-23:54:06,557 nipype.interface INFO:\n",
      "\t stderr 2023-07-30T23:54:06.553847:       x-scale=  0.9405   y-scale=  0.9285   z-scale=  0.8568  ...  vol3D=  0.7482=(0.9078)^3 [base bigger than source]\n",
      "230730-23:54:06,558 nipype.interface INFO:\n",
      "\t stderr 2023-07-30T23:54:06.553847:     y/x-shear=  0.0008 z/x-shear= -0.0074 z/y-shear=  0.0000\n",
      "230730-23:54:07,19 nipype.interface INFO:\n",
      "\t stderr 2023-07-30T23:54:07.019559:++ Output dataset example_data/preprocessed/anat_warped_AFNI.nii.gz\n",
      "230730-23:54:07,31 nipype.interface INFO:\n",
      "\t stderr 2023-07-30T23:54:07.031384:++ 3dAllineate: total CPU time = 0.0 sec  Elapsed = 245.6\n",
      "230730-23:54:07,32 nipype.interface INFO:\n",
      "\t stderr 2023-07-30T23:54:07.031384:++ ###########################################################\n",
      "230730-23:54:07,32 nipype.interface INFO:\n",
      "\t stderr 2023-07-30T23:54:07.031384:++ #   PLEASE check results VISUALLY for alignment quality   #\n",
      "230730-23:54:07,33 nipype.interface INFO:\n",
      "\t stderr 2023-07-30T23:54:07.031384:++ ###########################################################\n",
      "230730-23:54:07,33 nipype.interface INFO:\n",
      "\t stderr 2023-07-30T23:54:07.031384: +  \n",
      "230730-23:54:07,34 nipype.interface INFO:\n",
      "\t stderr 2023-07-30T23:54:07.031384:++ ***********************************************************\n",
      "230730-23:54:07,34 nipype.interface INFO:\n",
      "\t stderr 2023-07-30T23:54:07.031384:\u001b[7m*+ WARNING:\u001b[0m -cmass was turned off, but might have been needed :(\n",
      "230730-23:54:07,34 nipype.interface INFO:\n",
      "\t stderr 2023-07-30T23:54:07.031384: +           Please check your results - PLEASE PLEASE PLEASE\n",
      "230730-23:54:07,35 nipype.interface INFO:\n",
      "\t stderr 2023-07-30T23:54:07.031384:++ ***********************************************************\n"
     ]
    },
    {
     "data": {
      "text/plain": [
       "<nipype.interfaces.base.support.InterfaceResult at 0x7f35047477c0>"
      ]
     },
     "execution_count": 14,
     "metadata": {},
     "output_type": "execute_result"
    }
   ],
   "source": [
    "# Registration\n",
    "allineate = Allineate()\n",
    "allineate.inputs.in_file = anat_SS.format('AFNI')\n",
    "allineate.inputs.reference = template_path\n",
    "allineate.inputs.out_file = anat_warped.format('AFNI')\n",
    "allineate.run()"
   ]
  },
  {
   "cell_type": "markdown",
   "metadata": {},
   "source": [
    "## Using FSL"
   ]
  },
  {
   "cell_type": "code",
   "execution_count": 17,
   "metadata": {},
   "outputs": [],
   "source": [
    "from nipype.interfaces.fsl import BET, FLIRT\n",
    "from nipype.interfaces.base import traits"
   ]
  },
  {
   "cell_type": "code",
   "execution_count": 15,
   "metadata": {},
   "outputs": [
    {
     "data": {
      "text/plain": [
       "<nipype.interfaces.base.support.InterfaceResult at 0x7f35259d06a0>"
      ]
     },
     "execution_count": 15,
     "metadata": {},
     "output_type": "execute_result"
    }
   ],
   "source": [
    "# Skull-stripping\n",
    "skullstrip = BET(in_file=anat, out_file=anat_SS.format('FSL'), frac=0.5)\n",
    "skullstrip.run()"
   ]
  },
  {
   "cell_type": "code",
   "execution_count": null,
   "metadata": {},
   "outputs": [],
   "source": [
    "# Registration\n",
    "flirt = FLIRT()\n",
    "flirt.output_spec.out_file = traits.File(desc=\"Warped image\", exists=False)\n",
    "flirt.inputs.in_file = anat_SS.format('FSL')\n",
    "flirt.inputs.reference = template_path\n",
    "flirt.inputs.out_file = anat_warped.format('FSL')\n",
    "res = flirt.run()"
   ]
  },
  {
   "cell_type": "code",
   "execution_count": null,
   "metadata": {},
   "outputs": [],
   "source": []
  }
 ],
 "metadata": {
  "kernelspec": {
   "display_name": "Python 3 (ipykernel)",
   "language": "python",
   "name": "python3"
  },
  "language_info": {
   "codemirror_mode": {
    "name": "ipython",
    "version": 3
   },
   "file_extension": ".py",
   "mimetype": "text/x-python",
   "name": "python",
   "nbconvert_exporter": "python",
   "pygments_lexer": "ipython3",
   "version": "3.10.9"
  }
 },
 "nbformat": 4,
 "nbformat_minor": 2
}

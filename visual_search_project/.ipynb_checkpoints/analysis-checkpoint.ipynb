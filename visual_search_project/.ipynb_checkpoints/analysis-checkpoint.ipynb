{
 "cells": [
  {
   "cell_type": "code",
   "execution_count": 1,
   "id": "e28c8433",
   "metadata": {},
   "outputs": [],
   "source": [
    "import pandas as pd\n",
    "import numpy as np\n",
    "import matplotlib.pyplot as plt\n",
    "import seaborn as sns"
   ]
  },
  {
   "cell_type": "markdown",
   "id": "83788d5e",
   "metadata": {},
   "source": [
    "# Read data"
   ]
  },
  {
   "cell_type": "code",
   "execution_count": 45,
   "id": "6f6a5e94",
   "metadata": {},
   "outputs": [
    {
     "data": {
      "text/html": [
       "<div>\n",
       "<style scoped>\n",
       "    .dataframe tbody tr th:only-of-type {\n",
       "        vertical-align: middle;\n",
       "    }\n",
       "\n",
       "    .dataframe tbody tr th {\n",
       "        vertical-align: top;\n",
       "    }\n",
       "\n",
       "    .dataframe thead th {\n",
       "        text-align: right;\n",
       "    }\n",
       "</style>\n",
       "<table border=\"1\" class=\"dataframe\">\n",
       "  <thead>\n",
       "    <tr style=\"text-align: right;\">\n",
       "      <th></th>\n",
       "      <th>type</th>\n",
       "      <th>time</th>\n",
       "      <th>answer</th>\n",
       "      <th>size</th>\n",
       "    </tr>\n",
       "  </thead>\n",
       "  <tbody>\n",
       "    <tr>\n",
       "      <th>0</th>\n",
       "      <td>Pop-out</td>\n",
       "      <td>0.48452</td>\n",
       "      <td>Target</td>\n",
       "      <td>Size 4</td>\n",
       "    </tr>\n",
       "    <tr>\n",
       "      <th>1</th>\n",
       "      <td>No-target</td>\n",
       "      <td>0.58277</td>\n",
       "      <td>No-target</td>\n",
       "      <td>Size 4</td>\n",
       "    </tr>\n",
       "    <tr>\n",
       "      <th>2</th>\n",
       "      <td>Pop-out</td>\n",
       "      <td>0.56268</td>\n",
       "      <td>Target</td>\n",
       "      <td>Size 4</td>\n",
       "    </tr>\n",
       "    <tr>\n",
       "      <th>3</th>\n",
       "      <td>No-target</td>\n",
       "      <td>0.78664</td>\n",
       "      <td>No-target</td>\n",
       "      <td>Size 4</td>\n",
       "    </tr>\n",
       "    <tr>\n",
       "      <th>4</th>\n",
       "      <td>No-target</td>\n",
       "      <td>0.66043</td>\n",
       "      <td>No-target</td>\n",
       "      <td>Size 4</td>\n",
       "    </tr>\n",
       "  </tbody>\n",
       "</table>\n",
       "</div>"
      ],
      "text/plain": [
       "        type     time     answer    size\n",
       "0    Pop-out  0.48452     Target  Size 4\n",
       "1  No-target  0.58277  No-target  Size 4\n",
       "2    Pop-out  0.56268     Target  Size 4\n",
       "3  No-target  0.78664  No-target  Size 4\n",
       "4  No-target  0.66043  No-target  Size 4"
      ]
     },
     "execution_count": 45,
     "metadata": {},
     "output_type": "execute_result"
    }
   ],
   "source": [
    "df = pd.read_csv('2022_10_12_KBY_alpha_build.csv', header = None)\n",
    "df.columns = ['type', 'time', 'answer', 'size']\n",
    "df.head()"
   ]
  },
  {
   "cell_type": "code",
   "execution_count": 46,
   "id": "96a0cde3",
   "metadata": {},
   "outputs": [
    {
     "data": {
      "text/plain": [
       "640"
      ]
     },
     "execution_count": 46,
     "metadata": {},
     "output_type": "execute_result"
    }
   ],
   "source": [
    "len(df)"
   ]
  },
  {
   "cell_type": "markdown",
   "id": "13d28557",
   "metadata": {},
   "source": [
    "# Clear data of wrong answers"
   ]
  },
  {
   "cell_type": "code",
   "execution_count": 47,
   "id": "2eb2188f",
   "metadata": {},
   "outputs": [],
   "source": [
    "for index, row in df.iterrows():\n",
    "    if row['type'] in ('Pop-out', 'Conjunction') and row['answer'] != 'Target':\n",
    "        df = df.drop(index)\n",
    "    elif row['type'] == 'No-target' and row['answer'] == 'Target':\n",
    "        df = df.drop(index)"
   ]
  },
  {
   "cell_type": "code",
   "execution_count": 48,
   "id": "2f7c990f",
   "metadata": {},
   "outputs": [
    {
     "data": {
      "text/plain": [
       "608"
      ]
     },
     "execution_count": 48,
     "metadata": {},
     "output_type": "execute_result"
    }
   ],
   "source": [
    "len(df)"
   ]
  },
  {
   "cell_type": "markdown",
   "id": "98e7f7de",
   "metadata": {},
   "source": [
    "# Seperate sizes"
   ]
  },
  {
   "cell_type": "code",
   "execution_count": 33,
   "id": "333b4b49",
   "metadata": {},
   "outputs": [
    {
     "name": "stderr",
     "output_type": "stream",
     "text": [
      "/tmp/ipykernel_19760/1401297184.py:8: FutureWarning: Dropping of nuisance columns in DataFrame reductions (with 'numeric_only=None') is deprecated; in a future version this will raise TypeError.  Select only valid columns before calling the reduction.\n",
      "  'Pop-out': data[data['type'] == 'Pop-out'].mean(),\n",
      "/tmp/ipykernel_19760/1401297184.py:9: FutureWarning: Dropping of nuisance columns in DataFrame reductions (with 'numeric_only=None') is deprecated; in a future version this will raise TypeError.  Select only valid columns before calling the reduction.\n",
      "  'Conjunction': data[data['type'] == 'Conjunction'].mean(),\n",
      "/tmp/ipykernel_19760/1401297184.py:10: FutureWarning: Dropping of nuisance columns in DataFrame reductions (with 'numeric_only=None') is deprecated; in a future version this will raise TypeError.  Select only valid columns before calling the reduction.\n",
      "  'No-target': data[data['type'] == 'No-target'].mean()\n"
     ]
    }
   ],
   "source": [
    "sizes = df['size'].unique()\n",
    "times = {}\n",
    "\n",
    "for size in sizes:\n",
    "    data = df[df['size'] == size]\n",
    "    \n",
    "    times[size] = {\n",
    "        'Pop-out': data[data['type'] == 'Pop-out'].mean(),\n",
    "        'Conjunction': data[data['type'] == 'Conjunction'].mean(),\n",
    "        'No-target': data[data['type'] == 'No-target'].mean()\n",
    "    }"
   ]
  },
  {
   "cell_type": "markdown",
   "id": "98effaa5",
   "metadata": {},
   "source": [
    "# Plots"
   ]
  },
  {
   "cell_type": "code",
   "execution_count": 60,
   "id": "678a3b9b",
   "metadata": {},
   "outputs": [
    {
     "data": {
      "image/png": "[encoded data removed]",
      "text/plain": [
       "<Figure size 640x480 with 1 Axes>"
      ]
     },
     "metadata": {},
     "output_type": "display_data"
    }
   ],
   "source": [
    "pops, conj, no = [], [], []\n",
    "for key, value in times.items():\n",
    "    pops.append(value['Pop-out'])\n",
    "    conj.append(value['Conjunction'])\n",
    "    no.append(value['No-target'])\n",
    "\n",
    "for _ in range(4):\n",
    "    x = range(4, 17, 4)\n",
    "    plt.plot(x, pops, 'b')\n",
    "    plt.plot(x, conj, 'r')\n",
    "    plt.plot(x, no, '--k')"
   ]
  },
  {
   "cell_type": "code",
   "execution_count": null,
   "id": "bc7cf35e",
   "metadata": {},
   "outputs": [],
   "source": []
  }
 ],
 "metadata": {
  "kernelspec": {
   "display_name": "Python 3 (ipykernel)",
   "language": "python",
   "name": "python3"
  },
  "language_info": {
   "codemirror_mode": {
    "name": "ipython",
    "version": 3
   },
   "file_extension": ".py",
   "mimetype": "text/x-python",
   "name": "python",
   "nbconvert_exporter": "python",
   "pygments_lexer": "ipython3",
   "version": "3.10.4"
  }
 },
 "nbformat": 4,
 "nbformat_minor": 5
}
